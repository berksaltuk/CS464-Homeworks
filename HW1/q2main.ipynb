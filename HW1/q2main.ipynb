{
  "nbformat": 4,
  "nbformat_minor": 0,
  "metadata": {
    "colab": {
      "provenance": [],
      "collapsed_sections": []
    },
    "kernelspec": {
      "name": "python3",
      "display_name": "Python 3"
    },
    "language_info": {
      "name": "python"
    }
  },
  "cells": [
    {
      "cell_type": "markdown",
      "source": [
        "# **Setting up Google Drive Connection**"
      ],
      "metadata": {
        "id": "-qSKGGqj4Bdl"
      }
    },
    {
      "cell_type": "code",
      "execution_count": 2,
      "metadata": {
        "colab": {
          "base_uri": "https://localhost:8080/"
        },
        "id": "FnajVKCdSnEe",
        "outputId": "caea5cdd-130d-46d8-e4bc-00e3dd7a5149"
      },
      "outputs": [
        {
          "output_type": "stream",
          "name": "stdout",
          "text": [
            "Mounted at /content/gdrive/\n"
          ]
        }
      ],
      "source": [
        "from google.colab import drive\n",
        "\n",
        "drive.mount(\"/content/gdrive/\")"
      ]
    },
    {
      "cell_type": "code",
      "source": [
        "!ls \"/content/gdrive/MyDrive/CS464\""
      ],
      "metadata": {
        "colab": {
          "base_uri": "https://localhost:8080/"
        },
        "id": "sTzZ-MkWT01x",
        "outputId": "c8e2ecc1-a3f1-45ba-ab08-ab86dd1fd140"
      },
      "execution_count": 3,
      "outputs": [
        {
          "output_type": "stream",
          "name": "stdout",
          "text": [
            "bbcsports_train.csv  bbcsports_val.csv\n"
          ]
        }
      ]
    },
    {
      "cell_type": "markdown",
      "source": [
        "# **Necessary Imports**"
      ],
      "metadata": {
        "id": "U-ycS7Dw4K3H"
      }
    },
    {
      "cell_type": "code",
      "source": [
        "import os\n",
        "import sys\n",
        "import seaborn as sn\n",
        "import numpy as np\n",
        "import pandas as pd\n",
        "import matplotlib.pylab as plt"
      ],
      "metadata": {
        "id": "nL-kdzc9UOqW"
      },
      "execution_count": 65,
      "outputs": []
    },
    {
      "cell_type": "markdown",
      "source": [
        "# **Reading Datasets**"
      ],
      "metadata": {
        "id": "llZTDArb4fSm"
      }
    },
    {
      "cell_type": "code",
      "source": [
        "dataset_dir = '/content/gdrive/MyDrive/CS464/'\n",
        "csv_path_train = os.path.join(dataset_dir, 'bbcsports_train.csv')\n",
        "csv_path_val = os.path.join(dataset_dir, 'bbcsports_val.csv')"
      ],
      "metadata": {
        "id": "lGzkNeIUUU12"
      },
      "execution_count": 5,
      "outputs": []
    },
    {
      "cell_type": "code",
      "source": [
        "train_dataset_file = pd.read_csv(csv_path_train)\n",
        "validation_dataset_file = pd.read_csv(csv_path_val)\n",
        "\n",
        "train_dataset_arr = train_dataset_file.values\n",
        "\n",
        "train_x = train_dataset_arr[:,:-1]\n",
        "train_y = train_dataset_arr[:,-1]\n",
        "\n",
        "validation_dataset_arr = validation_dataset_file.values\n",
        "val_x = validation_dataset_arr[:, :-1]\n",
        "val_y = validation_dataset_arr[:, -1]"
      ],
      "metadata": {
        "id": "spgjnhWnUng-"
      },
      "execution_count": 67,
      "outputs": []
    },
    {
      "cell_type": "markdown",
      "source": [
        "# **Finding Frequencies and Plotting Data Distributions**"
      ],
      "metadata": {
        "id": "OiYrtpHL4tn8"
      }
    },
    {
      "cell_type": "code",
      "source": [
        "vocab_size = len(train_x[0])\n",
        "article_count = len(train_y)\n",
        "\n",
        "unique, counts = np.unique(train_y, return_counts=True)\n",
        "\n",
        "category_freq = dict(zip(unique, counts))\n",
        "\n",
        "athletics_news_count = category_freq.get(0)\n",
        "cricket_news_count = category_freq.get(1)\n",
        "football_news_count = category_freq.get(2)\n",
        "rugby_news_count = category_freq.get(3)\n",
        "tennis_news_count = category_freq.get(4)"
      ],
      "metadata": {
        "id": "A4vtoGq_WTok"
      },
      "execution_count": 14,
      "outputs": []
    },
    {
      "cell_type": "code",
      "source": [
        "print(athletics_news_count, cricket_news_count, football_news_count, rugby_news_count, tennis_news_count)"
      ],
      "metadata": {
        "colab": {
          "base_uri": "https://localhost:8080/"
        },
        "id": "1xYacirnkthc",
        "outputId": "2fa3a13c-1dd0-4d69-853a-2b4575719488"
      },
      "execution_count": 8,
      "outputs": [
        {
          "output_type": "stream",
          "name": "stdout",
          "text": [
            "77 86 198 114 77\n"
          ]
        }
      ]
    },
    {
      "cell_type": "code",
      "source": [
        "categories = list(category_freq.keys())\n",
        "counts = list(category_freq.values())\n",
        "  \n",
        "fig = plt.figure(figsize = (10, 5))\n",
        "\n",
        "# creating the bar plot\n",
        "plt.barh(categories, counts)\n",
        "\n",
        "\n",
        "plt.xlabel(\"Categories\")\n",
        "plt.ylabel(\"No. of Articles\")\n",
        "plt.title(\"Distribution of Training Data\")\n",
        "for index, value in enumerate(counts):\n",
        "    plt.text(value, index,\n",
        "             str(value))\n",
        "\n",
        "plt.show()"
      ],
      "metadata": {
        "colab": {
          "base_uri": "https://localhost:8080/",
          "height": 350
        },
        "id": "BNjOwaq9A6pZ",
        "outputId": "3a09735a-00bd-4db5-c6d8-98de9e34cb85"
      },
      "execution_count": 15,
      "outputs": [
        {
          "output_type": "display_data",
          "data": {
            "text/plain": [
              "<Figure size 720x360 with 1 Axes>"
            ],
            "image/png": "[encoded data removed]"
          },
          "metadata": {
            "needs_background": "light"
          }
        }
      ]
    },
    {
      "cell_type": "code",
      "source": [
        "# For validation set\n",
        "unique2, counts2 = np.unique(val_y, return_counts=True)\n",
        "\n",
        "category_freq2 = dict(zip(unique2, counts2))\n",
        "\n",
        "athletics_news_count2 = category_freq2.get(0)\n",
        "cricket_news_count2 = category_freq2.get(1)\n",
        "football_news_count2 = category_freq2.get(2)\n",
        "rugby_news_count2 = category_freq2.get(3)\n",
        "tennis_news_count2 = category_freq2.get(4)\n",
        "\n",
        "categories2 = list(category_freq2.keys())\n",
        "counts2 = list(category_freq2.values())\n",
        "  \n",
        "fig = plt.figure(figsize = (10, 5))\n",
        " \n",
        "# creating the bar plot\n",
        "plt.barh(categories2, counts2)\n",
        " \n",
        "plt.xlabel(\"Categories\")\n",
        "plt.ylabel(\"No. of Articles\")\n",
        "plt.title(\"Distribution of Validation Data\")\n",
        "for index, value in enumerate(counts2):\n",
        "    plt.text(value, index,\n",
        "             str(value))\n",
        "plt.show()"
      ],
      "metadata": {
        "colab": {
          "base_uri": "https://localhost:8080/",
          "height": 350
        },
        "id": "3DowEo1mAwwb",
        "outputId": "dd8c34ea-3fa1-42d9-eed7-5b7c3de8a749"
      },
      "execution_count": 18,
      "outputs": [
        {
          "output_type": "display_data",
          "data": {
            "text/plain": [
              "<Figure size 720x360 with 1 Axes>"
            ],
            "image/png": "[encoded data removed]"
          },
          "metadata": {
            "needs_background": "light"
          }
        }
      ]
    },
    {
      "cell_type": "markdown",
      "source": [
        "# **Finding Estimators**"
      ],
      "metadata": {
        "id": "zJgpagu25BJb"
      }
    },
    {
      "cell_type": "code",
      "source": [
        "words_athletics = train_x[np.where(train_y == 0)[0]]\n",
        "words_cricket = train_x[np.where(train_y == 1)[0]]\n",
        "words_football = train_x[np.where(train_y == 2)[0]]\n",
        "words_rugby = train_x[np.where(train_y == 3)[0]]\n",
        "words_tennis = train_x[np.where(train_y == 4)[0]]"
      ],
      "metadata": {
        "id": "ROpr0T3OpTUN"
      },
      "execution_count": 19,
      "outputs": []
    },
    {
      "cell_type": "code",
      "source": [
        "T_athletics = np.sum(words_athletics, axis=0)\n",
        "T_cricket = np.sum(words_cricket, axis=0)\n",
        "T_football = np.sum(words_football, axis=0)\n",
        "T_rugby = np.sum(words_rugby, axis=0)\n",
        "T_tennis = np.sum(words_tennis, axis=0)\n",
        "\n",
        "theta_athletics = T_athletics / T_athletics.sum()\n",
        "theta_cricket = T_cricket / T_cricket.sum()\n",
        "theta_football = T_football / T_football.sum()\n",
        "theta_rugby = T_rugby / T_rugby.sum()\n",
        "theta_tennis = T_tennis / T_tennis.sum()"
      ],
      "metadata": {
        "id": "NEttcDzpBYwU"
      },
      "execution_count": 27,
      "outputs": []
    },
    {
      "cell_type": "code",
      "source": [
        "athletics_prob = athletics_news_count / article_count\n",
        "cricket_prob = cricket_news_count / article_count\n",
        "football_prob = football_news_count / article_count\n",
        "rugby_prob = rugby_news_count / article_count\n",
        "tennis_prob = tennis_news_count / article_count"
      ],
      "metadata": {
        "id": "_pa91xPwlAZR"
      },
      "execution_count": 21,
      "outputs": []
    },
    {
      "cell_type": "markdown",
      "source": [
        "# **Predictions without MAP**"
      ],
      "metadata": {
        "id": "qYJeBU7w5JYI"
      }
    },
    {
      "cell_type": "code",
      "source": [
        "def predictLabelGivenArticle(label_probability, train_data, theta, index):\n",
        "  estimate_label = np.nan_to_num(np.log(label_probability))\n",
        "\n",
        "  for i in range(train_data.shape[1]): # all words in article\n",
        "    if(theta[i] == 0):\n",
        "      estimate_label += np.nan_to_num(train_data[index][i] * -np.inf)\n",
        "    else:\n",
        "      estimate_label += train_data[index][i] * np.log(theta[i])\n",
        "  return estimate_label"
      ],
      "metadata": {
        "id": "3Nxzz_yKgiDs"
      },
      "execution_count": 43,
      "outputs": []
    },
    {
      "cell_type": "code",
      "source": [
        "def findMax(a, b, c, d, e):\n",
        "  l = []\n",
        "  l.extend((a, b, c, d, e))\n",
        "  max = np.nan_to_num(-np.inf)\n",
        "  index = 0;\n",
        "\n",
        "  for i in range(len(l)):\n",
        "    if(l[i] >= max):\n",
        "        max = l[i]\n",
        "        index = i\n",
        "      \n",
        "  return index"
      ],
      "metadata": {
        "id": "w3Ep42vrpwPT"
      },
      "execution_count": 53,
      "outputs": []
    },
    {
      "cell_type": "code",
      "source": [
        "def predictLabel(i):\n",
        "  return findMax(predictLabelGivenArticle(athletics_prob, val_x, theta_athletics,  i),\n",
        "                 predictLabelGivenArticle(cricket_prob, val_x, theta_cricket,  i),\n",
        "                 predictLabelGivenArticle(football_prob, val_x, theta_football,  i),\n",
        "                 predictLabelGivenArticle(rugby_prob, val_x, theta_rugby,  i),\n",
        "                 predictLabelGivenArticle(tennis_prob, val_x, theta_tennis,  i))"
      ],
      "metadata": {
        "id": "PQIWDkt1rsR9"
      },
      "execution_count": 41,
      "outputs": []
    },
    {
      "cell_type": "code",
      "source": [
        "predictions = np.array([predictLabel(i) for i in range (val_x.shape[0])])\n",
        "print(predictions)"
      ],
      "metadata": {
        "colab": {
          "base_uri": "https://localhost:8080/"
        },
        "id": "rFpKV8sEu63u",
        "outputId": "9dc7a3f4-2b83-40f9-8e2d-8061c51465a5"
      },
      "execution_count": 55,
      "outputs": [
        {
          "output_type": "stream",
          "name": "stderr",
          "text": [
            "/usr/local/lib/python3.7/dist-packages/ipykernel_launcher.py:6: RuntimeWarning: invalid value encountered in multiply\n",
            "  \n",
            "/usr/local/lib/python3.7/dist-packages/ipykernel_launcher.py:6: RuntimeWarning: overflow encountered in double_scalars\n",
            "  \n"
          ]
        },
        {
          "output_type": "stream",
          "name": "stdout",
          "text": [
            "[0 0 0 0 4 0 0 0 2 2 0 0 0 0 0 0 0 0 0 0 0 0 0 0 0 0 0 0 0 2 0 0 0 0 3 0 0\n",
            " 0 2 1 2 0 0 4 0 0 0 0 0 0 2 0 0 0 0 0 0 0 0 4 0 0 2 0 0 0 0 0 2 0 0 0 0 0\n",
            " 0 0 0 0 4 0 0 0 0 2 0 0 0 0 0 0 0 0 2 0 0 2 1 0 0 0 0 0 0 0 0 0 0 1 1 0 2\n",
            " 0 0 0 0 0 0 0 2 0 0 3 0 0 0 0 2 0 0 0 0 2 0 3 0 0 1 0 0 0 0 0 2 2 0 0 0 2\n",
            " 0 0 0 0 0 2 0 0 0 2 2 0 0 0 2 0 0 0 0 0 2 0 0 0 0 0 0 0 0 0 0 0 0 0 0 0 0]\n"
          ]
        }
      ]
    },
    {
      "cell_type": "markdown",
      "source": [
        "# **Predictions with Maximum a Posteriori**"
      ],
      "metadata": {
        "id": "9obN01n25OCr"
      }
    },
    {
      "cell_type": "code",
      "source": [
        "# MAP Estimator where alpha = 1\n",
        "alpha = 1\n",
        "T_athletics_as = np.sum(words_athletics, axis=0) + alpha\n",
        "T_cricket_as = np.sum(words_cricket, axis=0) + alpha\n",
        "T_football_as = np.sum(words_football, axis=0) + alpha\n",
        "T_rugby_as = np.sum(words_rugby, axis=0) + alpha\n",
        "T_tennis_as = np.sum(words_tennis, axis=0) + alpha\n",
        "\n",
        "theta_athletics_as = T_athletics_as / (T_athletics.sum()  + (alpha * train_x.shape[1]))\n",
        "theta_cricket_as = T_cricket_as / (T_cricket.sum() + (alpha * train_x.shape[1]))\n",
        "theta_football_as = T_football_as / (T_football.sum() + (alpha * train_x.shape[1]))\n",
        "theta_rugby_as = T_rugby_as / (T_rugby.sum() + (alpha * train_x.shape[1]))\n",
        "theta_tennis_as = T_tennis_as / (T_tennis.sum() + (alpha * train_x.shape[1]))"
      ],
      "metadata": {
        "id": "A_EIAgGCjVjJ"
      },
      "execution_count": 45,
      "outputs": []
    },
    {
      "cell_type": "code",
      "source": [
        "def predictLabelAPriori(i):\n",
        "  return findMax(predictLabelGivenArticle(athletics_prob, val_x, theta_athletics_as,  i),\n",
        "                 predictLabelGivenArticle(cricket_prob, val_x, theta_cricket_as,  i),\n",
        "                 predictLabelGivenArticle(football_prob, val_x, theta_football_as,  i),\n",
        "                 predictLabelGivenArticle(rugby_prob, val_x, theta_rugby_as,  i),\n",
        "                 predictLabelGivenArticle(tennis_prob, val_x, theta_tennis_as, i))"
      ],
      "metadata": {
        "id": "BkEwbbnokgdZ"
      },
      "execution_count": 31,
      "outputs": []
    },
    {
      "cell_type": "code",
      "source": [
        "predictions_a_priori = np.array([predictLabelAPriori(i) for i in range(val_x.shape[0])])\n",
        "print(predictions_a_priori)"
      ],
      "metadata": {
        "colab": {
          "base_uri": "https://localhost:8080/"
        },
        "id": "dmsYdGNhlV5W",
        "outputId": "5010646d-3688-4daf-b6d8-d5535e7df80b"
      },
      "execution_count": 56,
      "outputs": [
        {
          "output_type": "stream",
          "name": "stdout",
          "text": [
            "[4 2 1 2 4 0 0 1 2 2 1 3 3 1 0 3 1 2 3 3 3 1 2 1 3 2 3 4 3 2 3 2 1 1 3 2 2\n",
            " 1 2 1 2 0 1 4 3 4 4 4 2 2 2 4 2 4 0 1 0 1 2 4 0 0 2 0 3 2 1 0 2 3 0 4 0 0\n",
            " 3 1 2 2 4 2 2 2 2 2 3 4 2 2 4 0 2 0 2 4 3 2 1 1 0 1 2 2 2 1 2 1 1 1 1 3 2\n",
            " 1 4 0 3 2 2 3 2 2 1 3 0 1 2 3 2 3 1 1 4 2 1 3 4 3 1 2 2 3 2 3 2 2 4 3 0 2\n",
            " 3 4 3 3 3 2 1 2 0 2 2 2 0 3 2 2 3 2 2 1 2 0 3 1 1 2 0 0 4 2 2 3 2 0 4 2 2]\n"
          ]
        }
      ]
    },
    {
      "cell_type": "markdown",
      "source": [
        "# **Confusion Matrices**"
      ],
      "metadata": {
        "id": "XBr0GHNl5Zbo"
      }
    },
    {
      "cell_type": "code",
      "source": [
        "no_smoothing = pd.DataFrame({'Predicted' : predictions}) \n",
        "apriori = pd.DataFrame({'Predicted' : predictions_a_priori})\n",
        "\n",
        "actual = pd.DataFrame({'Actual' : val_y})\n",
        "\n",
        "confusion_matrix = pd.crosstab(no_smoothing.Predicted, actual.Actual)\n",
        "confusion_matrix2 = pd.crosstab(apriori.Predicted, actual.Actual)"
      ],
      "metadata": {
        "id": "_kjv2a53nZ6u"
      },
      "execution_count": 66,
      "outputs": []
    },
    {
      "cell_type": "code",
      "source": [
        "fig = plt.figure(figsize=(17,5))\n",
        "ax1 = plt.subplot(121)\n",
        "ax1.set_title(\"Multinomial NB\")\n",
        "sn.heatmap(confusion_matrix, annot=True, cmap='Blues')\n",
        "\n",
        "ax2 = plt.subplot(122)\n",
        "ax2.set_title(\"Multinomial NB w/ Additive Smoothing\")\n",
        "sn.heatmap(confusion_matrix2, annot=True, cmap='Blues')"
      ],
      "metadata": {
        "colab": {
          "base_uri": "https://localhost:8080/",
          "height": 367
        },
        "id": "mzXp4XOBsNm3",
        "outputId": "6835cf42-4225-49f6-be18-1e4ebc23e5a4"
      },
      "execution_count": 62,
      "outputs": [
        {
          "output_type": "execute_result",
          "data": {
            "text/plain": [
              "<matplotlib.axes._subplots.AxesSubplot at 0x7f0d10522150>"
            ]
          },
          "metadata": {},
          "execution_count": 62
        },
        {
          "output_type": "display_data",
          "data": {
            "text/plain": [
              "<Figure size 1224x360 with 4 Axes>"
            ],
            "image/png": "[encoded data removed]"
          },
          "metadata": {
            "needs_background": "light"
          }
        }
      ]
    },
    {
      "cell_type": "markdown",
      "source": [
        "**Calculating Accuracies**"
      ],
      "metadata": {
        "id": "0YPcCzkE5daY"
      }
    },
    {
      "cell_type": "code",
      "source": [
        "accuracy_mnb = np.diag(confusion_matrix).sum()/confusion_matrix.sum().sum()\n",
        "\n",
        "accuracy_mnb_was = np.diag(confusion_matrix2).sum()/confusion_matrix2.sum().sum()\n",
        "\n",
        "print(\"Accuracy for Multinomial Naive Bayes without MAP\", accuracy_mnb,\n",
        "      \"\\nAccuracy for Multinomial Naive Bayes with Additional Smoothing\", accuracy_mnb_was)"
      ],
      "metadata": {
        "colab": {
          "base_uri": "https://localhost:8080/"
        },
        "id": "biO66vV-tuHM",
        "outputId": "99e619e1-c998-42e6-cf0c-39224ddc84b5"
      },
      "execution_count": 63,
      "outputs": [
        {
          "output_type": "stream",
          "name": "stdout",
          "text": [
            "Accuracy for Multinomial Naive Bayes without MAP 0.31891891891891894 \n",
            "Accuracy for Multinomial Naive Bayes with Additional Smoothing 0.972972972972973\n"
          ]
        }
      ]
    }
  ]
}